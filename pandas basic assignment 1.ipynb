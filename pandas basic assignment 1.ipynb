{
 "cells": [
  {
   "cell_type": "markdown",
   "id": "b97e1dc7",
   "metadata": {},
   "source": [
    "# Q1. Create a Pandas Series that contains the following data: 4, 8, 15, 16, 23, and 42. Then, print the series."
   ]
  },
  {
   "cell_type": "code",
   "execution_count": 2,
   "id": "6de066e5",
   "metadata": {},
   "outputs": [],
   "source": [
    "import pandas as pd"
   ]
  },
  {
   "cell_type": "code",
   "execution_count": 3,
   "id": "13a1111f",
   "metadata": {},
   "outputs": [
    {
     "name": "stdout",
     "output_type": "stream",
     "text": [
      "0     4\n",
      "1     8\n",
      "2    15\n",
      "3    16\n",
      "4    23\n",
      "5    42\n",
      "dtype: int64\n"
     ]
    }
   ],
   "source": [
    "lst = [4, 8, 15, 16, 23, 42]\n",
    "\n",
    "data = pd.Series(lst)\n",
    "print(data)"
   ]
  },
  {
   "cell_type": "markdown",
   "id": "4a2b7f21",
   "metadata": {},
   "source": [
    "# Q2. Create a variable of list type containing 10 elements in it, and apply pandas.Series function on the\n",
    "variable print it."
   ]
  },
  {
   "cell_type": "code",
   "execution_count": 5,
   "id": "d790d630",
   "metadata": {},
   "outputs": [
    {
     "name": "stdout",
     "output_type": "stream",
     "text": [
      "0       january\n",
      "1      February\n",
      "2         march\n",
      "3         april\n",
      "4           may\n",
      "5          june\n",
      "6          july\n",
      "7        august\n",
      "8     september\n",
      "9       october\n",
      "10     november\n",
      "11     december\n",
      "dtype: object\n"
     ]
    }
   ],
   "source": [
    "var = ['january', 'February', 'march', 'april','may','june', 'july', 'august', 'september', 'october', 'november', 'december' ]\n",
    "\n",
    "data1 = pd.Series(var)\n",
    "\n",
    "print(data1)"
   ]
  },
  {
   "cell_type": "markdown",
   "id": "7ca607ab",
   "metadata": {},
   "source": [
    "# Q3. Create a Pandas DataFrame that contains the following data:"
   ]
  },
  {
   "cell_type": "code",
   "execution_count": 15,
   "id": "2ef61091",
   "metadata": {},
   "outputs": [
    {
     "data": {
      "text/html": [
       "<div>\n",
       "<style scoped>\n",
       "    .dataframe tbody tr th:only-of-type {\n",
       "        vertical-align: middle;\n",
       "    }\n",
       "\n",
       "    .dataframe tbody tr th {\n",
       "        vertical-align: top;\n",
       "    }\n",
       "\n",
       "    .dataframe thead th {\n",
       "        text-align: right;\n",
       "    }\n",
       "</style>\n",
       "<table border=\"1\" class=\"dataframe\">\n",
       "  <thead>\n",
       "    <tr style=\"text-align: right;\">\n",
       "      <th></th>\n",
       "      <th>Name</th>\n",
       "      <th>Age</th>\n",
       "      <th>Gender</th>\n",
       "    </tr>\n",
       "  </thead>\n",
       "  <tbody>\n",
       "    <tr>\n",
       "      <th>0</th>\n",
       "      <td>Alice</td>\n",
       "      <td>25</td>\n",
       "      <td>Female</td>\n",
       "    </tr>\n",
       "    <tr>\n",
       "      <th>1</th>\n",
       "      <td>bob</td>\n",
       "      <td>30</td>\n",
       "      <td>Male</td>\n",
       "    </tr>\n",
       "    <tr>\n",
       "      <th>2</th>\n",
       "      <td>Claire</td>\n",
       "      <td>27</td>\n",
       "      <td>Female</td>\n",
       "    </tr>\n",
       "  </tbody>\n",
       "</table>\n",
       "</div>"
      ],
      "text/plain": [
       "     Name  Age  Gender\n",
       "0   Alice   25  Female\n",
       "1     bob   30    Male\n",
       "2  Claire   27  Female"
      ]
     },
     "execution_count": 15,
     "metadata": {},
     "output_type": "execute_result"
    }
   ],
   "source": [
    "data = {\n",
    "    'Name': ['Alice', 'bob', 'Claire'],\n",
    "    'Age': [25,30,27],\n",
    "    'Gender': ['Female', 'Male', 'Female']\n",
    "}\n",
    "\n",
    "file = pd.DataFrame(data)\n",
    "\n",
    "file"
   ]
  },
  {
   "cell_type": "markdown",
   "id": "05eb5629",
   "metadata": {},
   "source": [
    "# Q4. What is ‘DataFrame’ in pandas and how is it different from pandas.series? Explain with an example."
   ]
  },
  {
   "cell_type": "markdown",
   "id": "ab0cc491",
   "metadata": {},
   "source": [
    "In pandas, a DataFrame is a two-dimensional labeled data structure that represents tabular data. It consists of rows and columns, similar to a spreadsheet or a SQL table. A DataFrame can store data of different types (numeric, string, boolean, etc.) and allows for data manipulation, analysis, and processing.\n",
    "\n",
    "On the other hand, a Series in pandas is a one-dimensional labeled array that can store data of any type. It is similar to a column in a DataFrame or a single column from a spreadsheet. Each element in a Series has a unique label called an index"
   ]
  },
  {
   "cell_type": "code",
   "execution_count": 17,
   "id": "ab8644ce",
   "metadata": {},
   "outputs": [
    {
     "data": {
      "text/plain": [
       "0     4\n",
       "1     8\n",
       "2    15\n",
       "3    16\n",
       "4    23\n",
       "5    42\n",
       "Name: Numbers, dtype: int64"
      ]
     },
     "execution_count": 17,
     "metadata": {},
     "output_type": "execute_result"
    }
   ],
   "source": [
    "# Creating a Series\n",
    "series = pd.Series([4, 8, 15, 16, 23, 42], name='Numbers')\n",
    "series"
   ]
  },
  {
   "cell_type": "code",
   "execution_count": 21,
   "id": "dc9b8890",
   "metadata": {},
   "outputs": [
    {
     "data": {
      "text/html": [
       "<div>\n",
       "<style scoped>\n",
       "    .dataframe tbody tr th:only-of-type {\n",
       "        vertical-align: middle;\n",
       "    }\n",
       "\n",
       "    .dataframe tbody tr th {\n",
       "        vertical-align: top;\n",
       "    }\n",
       "\n",
       "    .dataframe thead th {\n",
       "        text-align: right;\n",
       "    }\n",
       "</style>\n",
       "<table border=\"1\" class=\"dataframe\">\n",
       "  <thead>\n",
       "    <tr style=\"text-align: right;\">\n",
       "      <th></th>\n",
       "      <th>Name</th>\n",
       "      <th>Age</th>\n",
       "      <th>City</th>\n",
       "    </tr>\n",
       "  </thead>\n",
       "  <tbody>\n",
       "    <tr>\n",
       "      <th>0</th>\n",
       "      <td>Ritesh</td>\n",
       "      <td>25</td>\n",
       "      <td>Mumbai</td>\n",
       "    </tr>\n",
       "    <tr>\n",
       "      <th>1</th>\n",
       "      <td>Versha</td>\n",
       "      <td>28</td>\n",
       "      <td>varanasi</td>\n",
       "    </tr>\n",
       "    <tr>\n",
       "      <th>2</th>\n",
       "      <td>Neha</td>\n",
       "      <td>30</td>\n",
       "      <td>Mirzapur</td>\n",
       "    </tr>\n",
       "    <tr>\n",
       "      <th>3</th>\n",
       "      <td>Rohit</td>\n",
       "      <td>27</td>\n",
       "      <td>Prayagraj</td>\n",
       "    </tr>\n",
       "  </tbody>\n",
       "</table>\n",
       "</div>"
      ],
      "text/plain": [
       "     Name  Age       City\n",
       "0  Ritesh   25     Mumbai\n",
       "1  Versha   28   varanasi\n",
       "2    Neha   30   Mirzapur\n",
       "3   Rohit   27  Prayagraj"
      ]
     },
     "execution_count": 21,
     "metadata": {},
     "output_type": "execute_result"
    }
   ],
   "source": [
    "#Creating a DataFrame\n",
    "data = {\n",
    "    'Name': ['Ritesh', 'Versha', 'Neha', 'Rohit'],\n",
    "    'Age': [25, 28, 30, 27],\n",
    "    'City': ['Mumbai', 'varanasi', 'Mirzapur', 'Prayagraj']\n",
    "}\n",
    "df = pd.DataFrame(data)\n",
    "df"
   ]
  },
  {
   "cell_type": "markdown",
   "id": "34c31b74",
   "metadata": {},
   "source": [
    "# Q5. What are some common functions you can use to manipulate data in a Pandas DataFrame? Can you give an example of when you might use one of these functions?"
   ]
  },
  {
   "cell_type": "code",
   "execution_count": 37,
   "id": "25558f8d",
   "metadata": {},
   "outputs": [
    {
     "name": "stdout",
     "output_type": "stream",
     "text": [
      "<class 'pandas.core.frame.DataFrame'>\n",
      "RangeIndex: 4 entries, 0 to 3\n",
      "Data columns (total 3 columns):\n",
      " #   Column  Non-Null Count  Dtype \n",
      "---  ------  --------------  ----- \n",
      " 0   Name    4 non-null      object\n",
      " 1   Age     4 non-null      int64 \n",
      " 2   City    4 non-null      object\n",
      "dtypes: int64(1), object(2)\n",
      "memory usage: 224.0+ bytes\n",
      "None\n",
      "             Age\n",
      "count   4.000000\n",
      "mean   27.500000\n",
      "std     2.081666\n",
      "min    25.000000\n",
      "25%    26.500000\n",
      "50%    27.500000\n",
      "75%    28.500000\n",
      "max    30.000000\n",
      "     Name  Age       City\n",
      "0  Ritesh   25     Mumbai\n",
      "1  Versha   28   varanasi\n",
      "2    Neha   30   Mirzapur\n",
      "3   Rohit   27  Prayagraj\n",
      "     Name  Age       City\n",
      "0  Ritesh   25     Mumbai\n",
      "1  Versha   28   varanasi\n",
      "2    Neha   30   Mirzapur\n",
      "3   Rohit   27  Prayagraj\n",
      "RangeIndex(start=0, stop=4, step=1)\n",
      "Index(['Name', 'Age', 'City'], dtype='object')\n"
     ]
    }
   ],
   "source": [
    "df\n",
    "\n",
    "print(df.info()) # Provide a summary of the DataFrame, including column names, data types, and non-null counts.\n",
    "\n",
    "print(df.describe()) # Provide a summary of the DataFrame, including column names, data types, and non-null counts.\n",
    "\n",
    "print(df.head()) #  Display the first n rows of a DataFrame.\n",
    "\n",
    "print(df.tail()) # Display the last n rows of a DataFrame.\n",
    "\n",
    "print(df.index) #   Display the last n rows of a DataFrame.\n",
    "\n",
    "print(df.columns )#  Return the column labels of the DataFrame.\n",
    "\n"
   ]
  },
  {
   "cell_type": "markdown",
   "id": "eafc8a36",
   "metadata": {},
   "source": [
    "# Q6. Which of the following is mutable in nature Series, DataFrame, Panel?"
   ]
  },
  {
   "cell_type": "markdown",
   "id": "88b84d9a",
   "metadata": {},
   "source": [
    "A mutable object can be modified after its creation. In the context of pandas, Series and DataFrame are mutable, it means that you can modify the data, add or remove elements, change values, or reassign values to a Series or DataFrame."
   ]
  },
  {
   "cell_type": "code",
   "execution_count": null,
   "id": "00040536",
   "metadata": {},
   "outputs": [],
   "source": []
  },
  {
   "cell_type": "markdown",
   "id": "a7f1c62e",
   "metadata": {},
   "source": [
    "# Q7. Create a DataFrame using multiple Series. Explain with an example."
   ]
  },
  {
   "cell_type": "code",
   "execution_count": 40,
   "id": "1e13487a",
   "metadata": {},
   "outputs": [
    {
     "name": "stdout",
     "output_type": "stream",
     "text": [
      "     Name  Age       City\n",
      "0  Ritesh   25     Mumbai\n",
      "1  Versha   28   varanasi\n",
      "2    Neha   30   Mirzapur\n",
      "3   Rohit   27  Prayagraj\n"
     ]
    }
   ],
   "source": [
    "name = pd.Series(['Ritesh', 'Versha', 'Neha', 'Rohit'])\n",
    "age = pd.Series([25, 28, 30, 27])\n",
    "city = pd.Series(['Mumbai', 'varanasi', 'Mirzapur', 'Prayagraj'])\n",
    "\n",
    "data = {\n",
    "    'Name': name,\n",
    "    'Age': age,\n",
    "    'City': city\n",
    "}\n",
    "\n",
    "file = pd.DataFrame(data)\n",
    "\n",
    "print(file)"
   ]
  }
 ],
 "metadata": {
  "kernelspec": {
   "display_name": "Python 3 (ipykernel)",
   "language": "python",
   "name": "python3"
  },
  "language_info": {
   "codemirror_mode": {
    "name": "ipython",
    "version": 3
   },
   "file_extension": ".py",
   "mimetype": "text/x-python",
   "name": "python",
   "nbconvert_exporter": "python",
   "pygments_lexer": "ipython3",
   "version": "3.9.12"
  }
 },
 "nbformat": 4,
 "nbformat_minor": 5
}
